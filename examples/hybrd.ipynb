{
 "cells": [
  {
   "cell_type": "code",
   "execution_count": 1,
   "metadata": {},
   "outputs": [],
   "source": [
    "import numpy as np\n",
    "from numba import cfunc\n",
    "from cminpack_numba import hybrd_sig, hybrd1, hybrd\n",
    "from scipy.optimize import root\n",
    "\n",
    "def func(x):\n",
    "    return [x[0] * np.cos(x[1]) - 4, x[1] * x[0] - x[1] - 5]\n",
    "\n",
    "\n",
    "@cfunc(hybrd_sig)\n",
    "def func_numba(udata, n, x, fvec, iflag):\n",
    "    fvec[0] = x[0] * np.cos(x[1]) - 4\n",
    "    fvec[1] = x[1] * x[0] - x[1] - 5\n",
    "    return 0"
   ]
  },
  {
   "cell_type": "code",
   "execution_count": 2,
   "metadata": {},
   "outputs": [
    {
     "data": {
      "text/plain": [
       " message: The solution converged.\n",
       " success: True\n",
       "  status: 1\n",
       "     fun: [ 3.732e-12  1.617e-11]\n",
       "       x: [ 6.504e+00  9.084e-01]\n",
       "  method: hybr\n",
       "    nfev: 17\n",
       "    fjac: [[-5.625e-01 -8.268e-01]\n",
       "           [ 8.268e-01 -5.625e-01]]\n",
       "       r: [-1.091e+00 -1.762e+00 -7.374e+00]\n",
       "     qtf: [ 6.257e-08  2.401e-08]"
      ]
     },
     "execution_count": 2,
     "metadata": {},
     "output_type": "execute_result"
    }
   ],
   "source": [
    "root(func, [1, 1], method='hybr')"
   ]
  },
  {
   "cell_type": "code",
   "execution_count": 3,
   "metadata": {},
   "outputs": [
    {
     "name": "stdout",
     "output_type": "stream",
     "text": [
      "28.7 µs ± 442 ns per loop (mean ± std. dev. of 7 runs, 10,000 loops each)\n"
     ]
    }
   ],
   "source": [
    "%timeit root(func, [1, 1], method='hybr')"
   ]
  },
  {
   "cell_type": "code",
   "execution_count": 4,
   "metadata": {},
   "outputs": [
    {
     "name": "stdout",
     "output_type": "stream",
     "text": [
      "(array([6.50409711, 0.90841421]), array([-7.39657224e-11,  6.40909548e-12]), 1)\n",
      "3.22 µs ± 27.4 ns per loop (mean ± std. dev. of 7 runs, 100,000 loops each)\n"
     ]
    }
   ],
   "source": [
    "print(hybrd1(func_numba.address, np.array([1.0, 1.0])))\n",
    "%timeit hybrd1(func_numba.address, np.array([1.0, 1.0]))"
   ]
  },
  {
   "cell_type": "code",
   "execution_count": 5,
   "metadata": {},
   "outputs": [
    {
     "name": "stdout",
     "output_type": "stream",
     "text": [
      "(array([6.50409711, 0.90841421]), array([3.73212572e-12, 1.61701763e-11]), array([[-0.56248005, -0.82681085],\n",
      "       [ 0.82681085, -0.56248005]]), array([-1.0907073 , -1.7621827 , -7.37420598]), array([6.25677405e-08, 2.40104780e-08]), 17, 1)\n",
      "4.8 µs ± 37.2 ns per loop (mean ± std. dev. of 7 runs, 100,000 loops each)\n"
     ]
    }
   ],
   "source": [
    "print(hybrd(func_numba.address, np.array([1.0, 1.0])))\n",
    "%timeit hybrd(func_numba.address, np.array([1.0, 1.0]))"
   ]
  }
 ],
 "metadata": {
  "kernelspec": {
   "display_name": "cminpack_numba311",
   "language": "python",
   "name": "python3"
  },
  "language_info": {
   "codemirror_mode": {
    "name": "ipython",
    "version": 3
   },
   "file_extension": ".py",
   "mimetype": "text/x-python",
   "name": "python",
   "nbconvert_exporter": "python",
   "pygments_lexer": "ipython3",
   "version": "3.11.7"
  }
 },
 "nbformat": 4,
 "nbformat_minor": 2
}

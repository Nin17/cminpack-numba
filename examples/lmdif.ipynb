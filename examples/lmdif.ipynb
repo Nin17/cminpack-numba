{
 "cells": [
  {
   "cell_type": "code",
   "execution_count": 2,
   "metadata": {},
   "outputs": [],
   "source": [
    "from cminpack_numba import lmdif1, lmdif, lmdif_sig\n",
    "import numpy as np\n",
    "import numba as nb\n",
    "from scipy.optimize import leastsq\n",
    "\n",
    "\n",
    "@nb.cfunc(lmdif_sig)\n",
    "def func_numba(udata, m, n, x, fvec, iflag):\n",
    "    fvec[0] = 2.0 * (x[0] - 3.0) ** 2 + 1.0*x[1]\n",
    "    fvec[1] = 3.0 * (x[0] - 4.0) ** 2 + 2.0*x[1]\n",
    "    fvec[2] = 4.0 * (x[0] - 5.0) ** 2 + 3.0*x[1]\n",
    "    fvec[3] = 5.0 * (x[0] - 6.0) ** 2 + 4.0*x[1]\n",
    "    fvec[4] = 6.0 * (x[0] - 7.0) ** 2 + 5.0*x[1]\n",
    "    return 0\n",
    "\n",
    "def func_scipy(x, args=()):\n",
    "    return np.array([2.0 * (x[0] - 3.0) ** 2 + 1.0*x[1], 3.0 * (x[0] - 4.0) ** 2 + 2.0*x[1], 4.0 * (x[0] - 5.0) ** 2 + 3.0*x[1], 5.0 * (x[0] - 6.0) ** 2 + 4.0*x[1], 6.0 * (x[0] - 7.0) ** 2 + 5.0*x[1]])\n"
   ]
  },
  {
   "cell_type": "code",
   "execution_count": 3,
   "metadata": {},
   "outputs": [
    {
     "data": {
      "text/plain": [
       "(array([ 5.34948832, -2.06584694]),\n",
       " array([[0.00224468, 0.00371682],\n",
       "        [0.00371682, 0.02433627]]),\n",
       " {'fvec': array([ 8.9743438 ,  1.33166231, -5.70897246, -6.14756052,  6.01589815]),\n",
       "  'nfev': 26,\n",
       "  'fjac': array([[-24.41919434,   0.33158155,   0.1144976 ,  -0.26639192,\n",
       "           -0.81108702],\n",
       "         [  3.72948693,  -6.41022054,   0.50320715,   0.54209607,\n",
       "            0.53061976]]),\n",
       "  'ipvt': array([1, 2], dtype=int32),\n",
       "  'qtf': array([-7.33239827e-05, -4.30875351e-05])},\n",
       " 'Both actual and predicted relative reductions in the sum of squares\\n  are at most 0.000000',\n",
       " 1)"
      ]
     },
     "execution_count": 3,
     "metadata": {},
     "output_type": "execute_result"
    }
   ],
   "source": [
    "leastsq(func_scipy, [0.0, 0.0], full_output=True)"
   ]
  },
  {
   "cell_type": "code",
   "execution_count": 4,
   "metadata": {},
   "outputs": [
    {
     "data": {
      "text/plain": [
       "(array([ 5.34948832, -2.06584691]),\n",
       " array([ 8.97434385,  1.33166238, -5.70897239, -6.14756044,  6.01589821]),\n",
       " 1)"
      ]
     },
     "execution_count": 4,
     "metadata": {},
     "output_type": "execute_result"
    }
   ],
   "source": [
    "lmdif1(func_numba.address, 5, np.array([0.0, 0.0]))"
   ]
  },
  {
   "cell_type": "code",
   "execution_count": 5,
   "metadata": {},
   "outputs": [
    {
     "data": {
      "text/plain": [
       "(array([ 5.34948832, -2.06584691]),\n",
       " array([ 8.97434385,  1.33166238, -5.70897239, -6.14756044,  6.01589821]),\n",
       " array([[-24.41919426,   0.33158155],\n",
       "        [  0.1144976 ,  -0.26639192],\n",
       "        [ -0.81108701,   3.72948691],\n",
       "        [ -6.41022053,   0.50320716],\n",
       "        [  0.54209607,   0.53061975]]),\n",
       " array([1, 2], dtype=int32),\n",
       " array([-7.33541237e-05, -4.29710722e-05]),\n",
       " 26,\n",
       " 1)"
      ]
     },
     "execution_count": 5,
     "metadata": {},
     "output_type": "execute_result"
    }
   ],
   "source": [
    "lmdif(func_numba.address, 5, np.array([0.0, 0.0]))"
   ]
  }
 ],
 "metadata": {
  "kernelspec": {
   "display_name": "minpack_numba310",
   "language": "python",
   "name": "python3"
  },
  "language_info": {
   "codemirror_mode": {
    "name": "ipython",
    "version": 3
   },
   "file_extension": ".py",
   "mimetype": "text/x-python",
   "name": "python",
   "nbconvert_exporter": "python",
   "pygments_lexer": "ipython3",
   "version": "3.11.7"
  }
 },
 "nbformat": 4,
 "nbformat_minor": 2
}

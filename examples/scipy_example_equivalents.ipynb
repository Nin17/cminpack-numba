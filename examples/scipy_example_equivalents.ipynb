{
 "cells": [
  {
   "cell_type": "markdown",
   "metadata": {},
   "source": [
    "# scipy.optimize examples in cminpack_numba\n",
    "\n",
    "This notebook contains the examples from the relevant scipy.optimize docstrings and\n",
    "their equivalent implementations in cminpack_numba\n"
   ]
  },
  {
   "cell_type": "code",
   "execution_count": 1,
   "metadata": {},
   "outputs": [],
   "source": [
    "import numpy as np\n",
    "from numba import cfunc, farray\n",
    "from numpy.typing import NDArray\n",
    "from scipy import optimize\n",
    "\n",
    "import cminpack_numba"
   ]
  },
  {
   "cell_type": "markdown",
   "metadata": {},
   "source": [
    "## Lmdif & Lmder"
   ]
  },
  {
   "cell_type": "markdown",
   "metadata": {},
   "source": [
    "### scipy.optimize.least_squares"
   ]
  },
  {
   "cell_type": "code",
   "execution_count": 2,
   "metadata": {},
   "outputs": [
    {
     "name": "stdout",
     "output_type": "stream",
     "text": [
      "[1. 1.]\n",
      "[1. 1.]\n"
     ]
    }
   ],
   "source": [
    "def func_least_squares(x: NDArray[np.float64]) -> NDArray[np.float64]:\n",
    "    return np.array([10 * (x[1] - x[0] ** 2), (1 - x[0])])\n",
    "\n",
    "\n",
    "def jac_least_squares(x: NDArray[np.float64]) -> NDArray[np.float64]:\n",
    "    return np.array([[-20 * x[0], 10], [-1, 0]])\n",
    "\n",
    "\n",
    "print(optimize.least_squares(func_least_squares, [2, 2], method=\"lm\").x)\n",
    "print(\n",
    "    optimize.least_squares(\n",
    "        func_least_squares, [2, 2], jac=jac_least_squares, method=\"lm\"\n",
    "    ).x\n",
    ")"
   ]
  },
  {
   "cell_type": "code",
   "execution_count": 3,
   "metadata": {},
   "outputs": [
    {
     "name": "stdout",
     "output_type": "stream",
     "text": [
      "(array([1., 1.]), array([0., 0.]), 2)\n",
      "(array([1., 1.]), array([0., 0.]), array([[20.02498439,  0.04993762],\n",
      "       [-9.98752339,  0.49937617]]), array([1, 2], dtype=int32), 2)\n"
     ]
    }
   ],
   "source": [
    "@cfunc(cminpack_numba.lmdif_sig)\n",
    "def func_least_squares_cminpack_numba(udata, m, n, x, fvec, iflag):\n",
    "    fvec[0] = 10.0 * (x[1] - x[0] ** 2)\n",
    "    fvec[1] = 1.0 - x[0]\n",
    "    return 0\n",
    "\n",
    "\n",
    "@cfunc(cminpack_numba.lmder_sig)\n",
    "def jac_least_squares_cminpack_numba(udata, m, n, x, fvec, fjac, ldfjac, iflag):\n",
    "    if iflag == 1:\n",
    "        fvec[0] = 10.0 * (x[1] - x[0] ** 2)\n",
    "        fvec[1] = 1.0 - x[0]\n",
    "    if iflag == 2:\n",
    "        fjac = farray(fjac, (m, n))\n",
    "        fjac[0, 0] = -20.0 * x[0]\n",
    "        fjac[0, 1] = 10.0\n",
    "        fjac[1, 0] = -1.0\n",
    "        fjac[1, 1] = 0.0\n",
    "    return 0\n",
    "\n",
    "\n",
    "print(\n",
    "    cminpack_numba.lmdif1(func_least_squares_cminpack_numba.address, 2, 2 * np.ones(2))\n",
    ")\n",
    "print(\n",
    "    cminpack_numba.lmder1(jac_least_squares_cminpack_numba.address, 2, 2 * np.ones(2))\n",
    ")"
   ]
  },
  {
   "cell_type": "code",
   "execution_count": 4,
   "metadata": {},
   "outputs": [
    {
     "name": "stdout",
     "output_type": "stream",
     "text": [
      "97.7 µs ± 1.94 µs per loop (mean ± std. dev. of 7 runs, 10,000 loops each)\n",
      "47.9 µs ± 138 ns per loop (mean ± std. dev. of 7 runs, 10,000 loops each)\n",
      "3.31 µs ± 9.47 ns per loop (mean ± std. dev. of 7 runs, 100,000 loops each)\n",
      "3.74 µs ± 8.72 ns per loop (mean ± std. dev. of 7 runs, 100,000 loops each)\n"
     ]
    }
   ],
   "source": [
    "%timeit optimize.least_squares(func_least_squares, [2, 2], method=\"lm\")\n",
    "%timeit optimize.least_squares(func_least_squares, [2, 2], jac=jac_least_squares, method=\"lm\")\n",
    "%timeit cminpack_numba.lmdif1(func_least_squares_cminpack_numba.address, 2, 2*np.ones(2))\n",
    "%timeit cminpack_numba.lmder1(jac_least_squares_cminpack_numba.address, 2, 2*np.ones(2))"
   ]
  },
  {
   "cell_type": "markdown",
   "metadata": {},
   "source": [
    "### scipy.optimize.leastsq"
   ]
  },
  {
   "cell_type": "code",
   "execution_count": 5,
   "metadata": {},
   "outputs": [
    {
     "name": "stdout",
     "output_type": "stream",
     "text": [
      "(array([2.99999999]), 1)\n",
      "(array([3.00000001]), 1)\n"
     ]
    }
   ],
   "source": [
    "def func_leastsq(x):\n",
    "    return 2 * (x - 3) ** 2 + 1\n",
    "\n",
    "\n",
    "def jac_leastsq(x):\n",
    "    return 4 * (x - 3)\n",
    "\n",
    "\n",
    "print(optimize.leastsq(func_leastsq, 0))\n",
    "print(optimize.leastsq(func_leastsq, 0, Dfun=jac_leastsq))"
   ]
  },
  {
   "cell_type": "code",
   "execution_count": 6,
   "metadata": {},
   "outputs": [
    {
     "name": "stdout",
     "output_type": "stream",
     "text": [
      "(array([2.99999999]), array([1.]), 1)\n",
      "(array([3.00000001]), array([1.]), array([[-2.92966735e-08]]), array([1], dtype=int32), 1)\n"
     ]
    }
   ],
   "source": [
    "@cfunc(cminpack_numba.lmdif_sig)\n",
    "def func_leastsq_cminpack_numba(udata, m, n, x, fvec, iflag):\n",
    "    fvec[0] = 2 * (x[0] - 3) ** 2 + 1\n",
    "    return 0\n",
    "\n",
    "\n",
    "@cfunc(cminpack_numba.lmder_sig)\n",
    "def jac_leastsq_cminpack_numba(udata, m, n, x, fvec, fjac, ldfjac, iflag):\n",
    "    if iflag == 1:\n",
    "        fvec[0] = 2 * (x[0] - 3) ** 2 + 1\n",
    "    if iflag == 2:\n",
    "        fjac = farray(fjac, (m, n))\n",
    "        fjac[0, 0] = 4 * (x[0] - 3)\n",
    "    return 0\n",
    "\n",
    "\n",
    "print(cminpack_numba.lmdif1(func_leastsq_cminpack_numba.address, 1, np.zeros(1)))\n",
    "print(cminpack_numba.lmder1(jac_leastsq_cminpack_numba.address, 1, np.zeros(1)))"
   ]
  },
  {
   "cell_type": "code",
   "execution_count": 7,
   "metadata": {},
   "outputs": [
    {
     "name": "stdout",
     "output_type": "stream",
     "text": [
      "68.7 µs ± 3.24 µs per loop (mean ± std. dev. of 7 runs, 10,000 loops each)\n",
      "62.9 µs ± 1.18 µs per loop (mean ± std. dev. of 7 runs, 10,000 loops each)\n",
      "3.24 µs ± 15.3 ns per loop (mean ± std. dev. of 7 runs, 100,000 loops each)\n",
      "3.85 µs ± 103 ns per loop (mean ± std. dev. of 7 runs, 100,000 loops each)\n"
     ]
    }
   ],
   "source": [
    "%timeit optimize.leastsq(func_leastsq, 0)\n",
    "%timeit optimize.leastsq(func_leastsq, 0, Dfun=jac_leastsq)\n",
    "%timeit cminpack_numba.lmdif1(func_leastsq_cminpack_numba.address, 1, np.zeros(1))\n",
    "%timeit cminpack_numba.lmder1(jac_leastsq_cminpack_numba.address, 1, np.zeros(1))"
   ]
  },
  {
   "cell_type": "markdown",
   "metadata": {},
   "source": [
    "## hybrd & hybrj"
   ]
  },
  {
   "cell_type": "markdown",
   "metadata": {},
   "source": [
    "### scipy.optimize.fsolve"
   ]
  },
  {
   "cell_type": "code",
   "execution_count": 8,
   "metadata": {},
   "outputs": [
    {
     "name": "stdout",
     "output_type": "stream",
     "text": [
      "[6.50409711 0.90841421]\n",
      "[6.50409711 0.90841421]\n"
     ]
    }
   ],
   "source": [
    "def func_fsolve(x):\n",
    "    return [x[0] * np.cos(x[1]) - 4, x[1] * x[0] - x[1] - 5]\n",
    "\n",
    "\n",
    "def jac_fsolve(x):\n",
    "    return [[np.cos(x[1]), -x[0] * np.sin(x[1])], [x[1], x[0] - 1]]\n",
    "\n",
    "\n",
    "print(optimize.fsolve(func_fsolve, [1, 1]))\n",
    "print(optimize.fsolve(func_fsolve, [1, 1], fprime=jac_fsolve))"
   ]
  },
  {
   "cell_type": "code",
   "execution_count": 9,
   "metadata": {},
   "outputs": [
    {
     "name": "stdout",
     "output_type": "stream",
     "text": [
      "[6.50409711 0.90841421]\n",
      "[6.50409711 0.90841421]\n"
     ]
    }
   ],
   "source": [
    "@cfunc(cminpack_numba.hybrd_sig)\n",
    "def func_fsolve_cminpack_numba(udata, n, x, fvec, iflag):\n",
    "    fvec[0] = x[0] * np.cos(x[1]) - 4\n",
    "    fvec[1] = x[1] * x[0] - x[1] - 5\n",
    "    return 0\n",
    "\n",
    "\n",
    "@cfunc(cminpack_numba.hybrj_sig)\n",
    "def jac_fsolve_cminpack_numba(udata, n, x, fvec, fjac, ldfjac, iflag):\n",
    "    if iflag == 1:\n",
    "        fvec[0] = x[0] * np.cos(x[1]) - 4\n",
    "        fvec[1] = x[1] * x[0] - x[1] - 5\n",
    "    if iflag == 2:\n",
    "        fjac = farray(fjac, (n, n))\n",
    "        fjac[0, 0] = np.cos(x[1])\n",
    "        fjac[0, 1] = -x[0] * np.sin(x[1])\n",
    "        fjac[1, 0] = x[1]\n",
    "        fjac[1, 1] = x[0] - 1\n",
    "    return 0\n",
    "\n",
    "\n",
    "print(cminpack_numba.hybrd1(func_fsolve_cminpack_numba.address, np.ones(2))[0])\n",
    "print(cminpack_numba.hybrj1(jac_fsolve_cminpack_numba.address, np.ones(2))[0])"
   ]
  },
  {
   "cell_type": "code",
   "execution_count": 10,
   "metadata": {},
   "outputs": [
    {
     "name": "stdout",
     "output_type": "stream",
     "text": [
      "30 µs ± 1.18 µs per loop (mean ± std. dev. of 7 runs, 10,000 loops each)\n",
      "32.6 µs ± 1.13 µs per loop (mean ± std. dev. of 7 runs, 10,000 loops each)\n",
      "3.71 µs ± 37.9 ns per loop (mean ± std. dev. of 7 runs, 100,000 loops each)\n",
      "3.95 µs ± 68.1 ns per loop (mean ± std. dev. of 7 runs, 100,000 loops each)\n"
     ]
    }
   ],
   "source": [
    "%timeit optimize.fsolve(func_fsolve, [1, 1])\n",
    "%timeit optimize.fsolve(func_fsolve, [1, 1], fprime=jac_fsolve)\n",
    "%timeit cminpack_numba.hybrd1(func_fsolve_cminpack_numba.address, np.ones(2))\n",
    "%timeit cminpack_numba.hybrj1(jac_fsolve_cminpack_numba.address, np.ones(2))"
   ]
  },
  {
   "cell_type": "markdown",
   "metadata": {},
   "source": [
    "### scipy.optimize.root"
   ]
  },
  {
   "cell_type": "code",
   "execution_count": 11,
   "metadata": {},
   "outputs": [
    {
     "name": "stdout",
     "output_type": "stream",
     "text": [
      "[0.8411639 0.1588361]\n",
      "[0.8411639 0.1588361]\n"
     ]
    }
   ],
   "source": [
    "def func_root(x):\n",
    "    return [x[0] + 0.5 * (x[0] - x[1]) ** 3 - 1.0, 0.5 * (x[1] - x[0]) ** 3 + x[1]]\n",
    "\n",
    "\n",
    "def jac_root(x):\n",
    "    return np.array(\n",
    "        [\n",
    "            [1 + 1.5 * (x[0] - x[1]) ** 2, -1.5 * (x[0] - x[1]) ** 2],\n",
    "            [-1.5 * (x[1] - x[0]) ** 2, 1 + 1.5 * (x[1] - x[0]) ** 2],\n",
    "        ]\n",
    "    )\n",
    "\n",
    "\n",
    "print(optimize.root(func_root, [0, 0], method=\"hybr\").x)\n",
    "print(optimize.root(func_root, [0, 0], jac=jac_root, method=\"hybr\").x)"
   ]
  },
  {
   "cell_type": "code",
   "execution_count": 12,
   "metadata": {},
   "outputs": [
    {
     "name": "stdout",
     "output_type": "stream",
     "text": [
      "[0.8411639 0.1588361]\n",
      "[0.8411639 0.1588361]\n"
     ]
    }
   ],
   "source": [
    "@cfunc(cminpack_numba.hybrd_sig)\n",
    "def func_root_cminpack_numba(udata, n, x, fvec, iflag):\n",
    "    fvec[0] = x[0] + 0.5 * (x[0] - x[1]) ** 3 - 1.0\n",
    "    fvec[1] = 0.5 * (x[1] - x[0]) ** 3 + x[1]\n",
    "    return 0\n",
    "\n",
    "\n",
    "@cfunc(cminpack_numba.hybrj_sig)\n",
    "def jac_root_cminpack_numba(udata, n, x, fvec, fjac, ldfjac, iflag):\n",
    "    if iflag == 1:  # Calculate the function\n",
    "        fvec[0] = x[0] + 0.5 * (x[0] - x[1]) ** 3 - 1.0\n",
    "        fvec[1] = 0.5 * (x[1] - x[0]) ** 3 + x[1]\n",
    "    elif iflag == 2:  # Calculate the Jacobian\n",
    "        fjac = farray(fjac, (n, n), np.float64)\n",
    "        fjac[0, 0] = 1 + 1.5 * (x[0] - x[1]) ** 2\n",
    "        fjac[0, 1] = -1.5 * (x[0] - x[1]) ** 2\n",
    "        fjac[1, 0] = -1.5 * (x[1] - x[0]) ** 2\n",
    "        fjac[1, 1] = 1 + 1.5 * (x[1] - x[0]) ** 2\n",
    "    return 0\n",
    "\n",
    "\n",
    "print(cminpack_numba.hybrd1(func_root_cminpack_numba.address, np.zeros(2))[0])\n",
    "print(cminpack_numba.hybrj1(jac_root_cminpack_numba.address, np.zeros(2))[0])"
   ]
  },
  {
   "cell_type": "code",
   "execution_count": 13,
   "metadata": {},
   "outputs": [
    {
     "name": "stdout",
     "output_type": "stream",
     "text": [
      "21.7 µs ± 1.07 µs per loop (mean ± std. dev. of 7 runs, 10,000 loops each)\n",
      "27.9 µs ± 1.72 µs per loop (mean ± std. dev. of 7 runs, 10,000 loops each)\n",
      "2.47 µs ± 22.9 ns per loop (mean ± std. dev. of 7 runs, 100,000 loops each)\n",
      "2.8 µs ± 15.4 ns per loop (mean ± std. dev. of 7 runs, 100,000 loops each)\n"
     ]
    }
   ],
   "source": [
    "%timeit optimize.root(func_root, [0, 0], method=\"hybr\")\n",
    "%timeit optimize.root(func_root, [0, 0], jac=jac_root, method=\"hybr\")\n",
    "%timeit cminpack_numba.hybrd1(func_root_cminpack_numba.address, np.zeros(2))\n",
    "%timeit cminpack_numba.hybrj1(jac_root_cminpack_numba.address,  np.zeros(2))"
   ]
  }
 ],
 "metadata": {
  "kernelspec": {
   "display_name": "minpack311",
   "language": "python",
   "name": "python3"
  },
  "language_info": {
   "codemirror_mode": {
    "name": "ipython",
    "version": 3
   },
   "file_extension": ".py",
   "mimetype": "text/x-python",
   "name": "python",
   "nbconvert_exporter": "python",
   "pygments_lexer": "ipython3",
   "version": "3.9.19"
  }
 },
 "nbformat": 4,
 "nbformat_minor": 2
}

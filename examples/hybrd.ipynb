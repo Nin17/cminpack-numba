{
 "cells": [
  {
   "cell_type": "code",
   "execution_count": 1,
   "metadata": {},
   "outputs": [],
   "source": [
    "import numpy as np\n",
    "from numba import cfunc\n",
    "from cminpack_numba import hybrd_sig, hybrd1, hybrd\n",
    "from scipy.optimize import root\n",
    "\n",
    "def func(x):\n",
    "    return [x[0] * np.cos(x[1]) - 4, x[1] * x[0] - x[1] - 5]\n",
    "\n",
    "\n",
    "@cfunc(hybrd_sig)\n",
    "def func_numba(udata, n, x, fvec, iflag):\n",
    "    fvec[0] = x[0] * np.cos(x[1]) - 4\n",
    "    fvec[1] = x[1] * x[0] - x[1] - 5\n",
    "    return 0"
   ]
  },
  {
   "cell_type": "code",
   "execution_count": 2,
   "metadata": {},
   "outputs": [
    {
     "data": {
      "text/plain": [
       " message: The solution converged.\n",
       " success: True\n",
       "  status: 1\n",
       "     fun: [ 3.732e-12  1.617e-11]\n",
       "       x: [ 6.504e+00  9.084e-01]\n",
       "    nfev: 17\n",
       "    fjac: [[-5.625e-01 -8.268e-01]\n",
       "           [ 8.268e-01 -5.625e-01]]\n",
       "       r: [-1.091e+00 -1.762e+00 -7.374e+00]\n",
       "     qtf: [ 6.257e-08  2.401e-08]"
      ]
     },
     "execution_count": 2,
     "metadata": {},
     "output_type": "execute_result"
    }
   ],
   "source": [
    "root(func, [1, 1], method='hybr')"
   ]
  },
  {
   "cell_type": "code",
   "execution_count": 3,
   "metadata": {},
   "outputs": [
    {
     "name": "stdout",
     "output_type": "stream",
     "text": [
      "26.5 µs ± 654 ns per loop (mean ± std. dev. of 7 runs, 10,000 loops each)\n"
     ]
    }
   ],
   "source": [
    "%timeit root(func, [1, 1], method='hybr')"
   ]
  },
  {
   "cell_type": "code",
   "execution_count": 4,
   "metadata": {},
   "outputs": [
    {
     "name": "stdout",
     "output_type": "stream",
     "text": [
      "(array([6.50409711, 0.90841421]), array([-7.39657224e-11,  6.40909548e-12]), 1)\n",
      "2.9 µs ± 17.1 ns per loop (mean ± std. dev. of 7 runs, 100,000 loops each)\n"
     ]
    }
   ],
   "source": [
    "print(hybrd1(func_numba.address, np.array([1.0, 1.0])))\n",
    "%timeit hybrd1(func_numba.address, np.array([1.0, 1.0]))"
   ]
  },
  {
   "cell_type": "code",
   "execution_count": 5,
   "metadata": {},
   "outputs": [
    {
     "name": "stdout",
     "output_type": "stream",
     "text": [
      "(array([6.50409711, 0.90841421]), array([3.73212572e-12, 1.61701763e-11]), 1, array([[-0.56248005, -0.82681085],\n",
      "       [ 0.82681085, -0.56248005]]), array([-1.0907073 , -1.7621827 , -7.37420598]), array([6.25677405e-08, 2.40104780e-08]), 17)\n",
      "31.3 µs ± 97 ns per loop (mean ± std. dev. of 7 runs, 10,000 loops each)\n"
     ]
    }
   ],
   "source": [
    "print(hybrd(func_numba.address, np.array([1.0, 1.0])))\n",
    "%timeit hybrd(func_numba.address, np.array([1.0, 1.0]))"
   ]
  },
  {
   "cell_type": "code",
   "execution_count": 10,
   "metadata": {},
   "outputs": [
    {
     "name": "stdout",
     "output_type": "stream",
     "text": [
      "(array([1., 1.]), array([0., 0.]), 0, array([[0., 0.],\n",
      "       [0., 0.]]), array([0., 0., 0.]), array([0., 0.]), 0)\n",
      "29.3 µs ± 175 ns per loop (mean ± std. dev. of 7 runs, 10,000 loops each)\n"
     ]
    }
   ],
   "source": [
    "from llvmlite import binding\n",
    "from ctypes.util import find_library\n",
    "from numba import types, njit\n",
    "from cminpack_numba.utils import ptr_from_val, val_from_ptr\n",
    "\n",
    "_cminpack_prefix = {types.float32: \"s\", types.float64: \"\"}\n",
    "\n",
    "\n",
    "def _cminpack_func(func, dtype):\n",
    "    return f\"{_cminpack_prefix[dtype]}{func}\"\n",
    "\n",
    "binding.load_library_permanently(find_library('cminpack'))\n",
    "def sig_hybrd(dtype: types.Float) -> types.ExternalFunction:  # pylint: disable= C0116\n",
    "    sig = types.int32(\n",
    "        types.long_,  # fcn\n",
    "        types.voidptr,  # *p / *udata\n",
    "        types.int32,  # n\n",
    "        types.CPointer(dtype),  # *x\n",
    "        types.CPointer(dtype),  # *fvec\n",
    "        dtype,  # xtol\n",
    "        types.int32,  # maxfev\n",
    "        types.int32,  # ml\n",
    "        types.int32,  # mu\n",
    "        dtype,  # epsfcn\n",
    "        types.CPointer(dtype),  # *diag\n",
    "        types.int32,  # mode\n",
    "        dtype,  # factor\n",
    "        types.int32,  # nprint\n",
    "        types.CPointer(types.int32),  # *nfev\n",
    "        types.CPointer(dtype),  # *fjac\n",
    "        types.int32,  # ldfjac\n",
    "        types.CPointer(dtype),  # *r\n",
    "        types.int32,  # lr\n",
    "        types.CPointer(dtype),  # *qtf\n",
    "        types.CPointer(dtype),  # *wa1\n",
    "        types.CPointer(dtype),  # *wa2\n",
    "        types.CPointer(dtype),  # *wa3\n",
    "        types.CPointer(dtype),  # *wa4\n",
    "    )\n",
    "    return types.ExternalFunction(_cminpack_func(\"hybrd\", dtype), sig)\n",
    "\n",
    "_hybrd_cfunc = sig_hybrd(types.float64)\n",
    "\n",
    "@njit\n",
    "def _hybrd_args(x):\n",
    "    n = np.int32(x.size)\n",
    "    fvec = np.empty(n, dtype=x.dtype)\n",
    "    nfevptr = ptr_from_val(np.int32(0))\n",
    "    fjac = np.empty((n, n), dtype=x.dtype)\n",
    "    ldfjac = n\n",
    "    lr = (n*(n+1))//2\n",
    "    r = np.empty(lr, dtype=x.dtype)\n",
    "    qtf = np.empty(n, dtype=x.dtype)\n",
    "    wa = np.empty(4*n, dtype=x.dtype)\n",
    "    wa1 = wa[:n]\n",
    "    wa2 = wa[n:2*n]\n",
    "    wa3 = wa[2*n:3*n]\n",
    "    wa4 = wa[3*n:]\n",
    "\n",
    "    return n, fvec, nfevptr, fjac, ldfjac, lr, r, qtf, wa1, wa2, wa3, wa4\n",
    "\n",
    "@njit\n",
    "def _hybrd(fcn, x, xtol=1.49012e-8, maxfev=-1, ml=None, mu=None, epsfcn=None, diag=None,\n",
    "          mode=1, factor=100., nprint=0, udata=None):\n",
    "    n, fvec, nfevptr, fjac, ldfjac, lr, r, qtf, wa1, wa2, wa3, wa4 = _hybrd_args(\n",
    "        x)\n",
    "    if diag is None:\n",
    "        diag = np.ones(n, dtype=x.dtype)\n",
    "    if epsfcn is None:\n",
    "        epsfcn = np.finfo(x.dtype).eps\n",
    "    # if not maxfev:\n",
    "    #     maxfev = 200 * (n + 1)\n",
    "    if ml is None:\n",
    "        ml = n\n",
    "    if mu is None:\n",
    "        mu = n\n",
    "    if udata is None:\n",
    "        udata = np.empty(1, dtype=np.int64)\n",
    "    x0 = x.copy()\n",
    "    info = _hybrd_cfunc(fcn, udata.ctypes, n, x0.ctypes, fvec.ctypes, xtol, maxfev, ml, mu, epsfcn, diag.ctypes, mode, factor,\n",
    "                  nprint, nfevptr, fjac.ctypes, ldfjac, r.ctypes, lr, qtf.ctypes, wa1.ctypes, wa2.ctypes, wa3.ctypes, wa4.ctypes)\n",
    "    nfev = val_from_ptr(nfevptr)\n",
    "    return x0, fvec, info, fjac, r, qtf, nfev\n",
    "    \n",
    "\n",
    "print(_hybrd(func_numba.address, np.array([1.0, 1.0])))\n",
    "%timeit _hybrd(func_numba.address, np.array([1.0, 1.0]))"
   ]
  }
 ],
 "metadata": {
  "kernelspec": {
   "display_name": "cminpack_numba311",
   "language": "python",
   "name": "python3"
  },
  "language_info": {
   "codemirror_mode": {
    "name": "ipython",
    "version": 3
   },
   "file_extension": ".py",
   "mimetype": "text/x-python",
   "name": "python",
   "nbconvert_exporter": "python",
   "pygments_lexer": "ipython3",
   "version": "3.11.5"
  }
 },
 "nbformat": 4,
 "nbformat_minor": 2
}
